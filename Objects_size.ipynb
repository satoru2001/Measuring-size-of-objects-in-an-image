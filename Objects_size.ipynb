{
 "cells": [
  {
   "cell_type": "markdown",
   "metadata": {},
   "source": [
    "<h1 style='text-align:center;color:blue;'> Measuring size of objects </h1>"
   ]
  },
  {
   "cell_type": "markdown",
   "metadata": {},
   "source": [
    "### Importing Libraries"
   ]
  },
  {
   "cell_type": "code",
   "execution_count": 1,
   "metadata": {},
   "outputs": [],
   "source": [
    "import cv2\n",
    "import imutils\n",
    "from imutils import contours\n",
    "from imutils import perspective\n",
    "from scipy.spatial import distance as dist\n",
    "import numpy as np"
   ]
  },
  {
   "cell_type": "markdown",
   "metadata": {},
   "source": [
    "# Function For finding MidPoint"
   ]
  },
  {
   "cell_type": "code",
   "execution_count": 2,
   "metadata": {},
   "outputs": [],
   "source": [
    "def midpoint(ptA, ptB):\n",
    "    return ((ptA[0] + ptB[0]) * 0.5, (ptA[1] + ptB[1]) * 0.5)"
   ]
  },
  {
   "cell_type": "markdown",
   "metadata": {},
   "source": [
    "# Read Image,Preprocess,Find Contours"
   ]
  },
  {
   "cell_type": "code",
   "execution_count": 3,
   "metadata": {},
   "outputs": [],
   "source": [
    "image = cv2.imread('sizes.jpg')\n",
    "gray = cv2.cvtColor(image,cv2.COLOR_BGR2GRAY)\n",
    "gray = cv2.GaussianBlur(gray,(7,7),0)\n",
    "\n",
    "edged = cv2.Canny(gray,50,100)\n",
    "edged = cv2.dilate(edged,None,iterations=1)\n",
    "edged = cv2.erode(edged,None,iterations=1)\n",
    "\n",
    "cnts = cv2.findContours(edged.copy(),cv2.RETR_EXTERNAL\n",
    "                        ,cv2.CHAIN_APPROX_SIMPLE)\n",
    "cnts = imutils.grab_contours(cnts)\n",
    "\n",
    "(cnts,_) = contours.sort_contours(cnts)\n",
    "pixelPerMetric = None"
   ]
  },
  {
   "cell_type": "markdown",
   "metadata": {},
   "source": [
    "# Define width of Reference object\n",
    "In our image its a cent, on left most"
   ]
  },
  {
   "cell_type": "code",
   "execution_count": 4,
   "metadata": {},
   "outputs": [],
   "source": [
    "width = 0.955"
   ]
  },
  {
   "cell_type": "markdown",
   "metadata": {},
   "source": [
    "# Info\n",
    "- Loop Through Contours\n",
    "- Find MinRectangle\n",
    "- Draw Line along rectangles\n",
    "- Calculate width and height based on reference(PixelPerMetric)"
   ]
  },
  {
   "cell_type": "code",
   "execution_count": 5,
   "metadata": {},
   "outputs": [],
   "source": [
    "for c in cnts:\n",
    "    if cv2.contourArea(c)<200:\n",
    "        continue\n",
    "        \n",
    "    orig = image.copy()\n",
    "    box = cv2.minAreaRect(c)\n",
    "    box = cv2.cv.BoxPoints(box) if imutils.is_cv2() else cv2.boxPoints(box)\n",
    "    box = np.array(box,dtype='int')\n",
    "    box = perspective.order_points(box)\n",
    "    cv2.drawContours(orig,[box.astype(\"int\")],-1,(0,255,0),2)\n",
    "    for (x,y) in box:\n",
    "        cv2.circle(orig,(int(x),int(y)),5,(0,0,255),-1)\n",
    "    (tl,tr,br,bl) = box\n",
    "    (tltrX,tltrY) = midpoint(tl,tr)\n",
    "    (blbrX,blbrY) = midpoint(bl,br)\n",
    "    (tlblX, tlblY) = midpoint(tl, bl)\n",
    "    (trbrX, trbrY) = midpoint(tr, br)\n",
    "    cv2.circle(orig, (int(tltrX), int(tltrY)), 5, (255, 0, 0), -1)\n",
    "    cv2.circle(orig, (int(blbrX), int(blbrY)), 5, (255, 0, 0), -1)\n",
    "    cv2.circle(orig, (int(tlblX), int(tlblY)), 5, (255, 0, 0), -1)\n",
    "    cv2.circle(orig, (int(trbrX), int(trbrY)), 5, (255, 0, 0), -1)\n",
    "    cv2.line(orig, (int(tltrX), int(tltrY)), (int(blbrX), int(blbrY)),\n",
    "        (255, 0, 255), 2)\n",
    "    cv2.line(orig, (int(tlblX), int(tlblY)), (int(trbrX), int(trbrY)),\n",
    "        (255, 0, 255), 2)\n",
    "    dA = dist.euclidean((tltrX,tltrY),(blbrX,blbrY))\n",
    "    dB = dist.euclidean((tlblX,tlblY),(trbrX,trbrY))\n",
    "    if pixelPerMetric is None:\n",
    "        pixelPerMetric = dB/width\n",
    "    dimA = dA / pixelPerMetric\n",
    "    dimB = dB / pixelPerMetric\n",
    "    cv2.putText(orig, \"{:.1f}in\".format(dimA),\n",
    "        (int(tltrX - 15), int(tltrY - 10)), cv2.FONT_HERSHEY_SIMPLEX,\n",
    "        0.65, (255, 255, 255), 2)\n",
    "    cv2.putText(orig, \"{:.1f}in\".format(dimB),\n",
    "        (int(blbrX-15),int(blbrY-10)),cv2.FONT_HERSHEY_SIMPLEX,\n",
    "        0.65, (255, 255, 255), 2)\n",
    "    cv2.imshow('orig',orig)\n",
    "    cv2.waitKey(0)\n",
    "    cv2.destroyWindow('orig')"
   ]
  },
  {
   "cell_type": "markdown",
   "metadata": {},
   "source": [
    "- [about functions](https://docs.opencv.org/trunk/dd/d49/tutorial_py_contour_features.html)\n",
   ]
  }
 ],
 "metadata": {
  "kernelspec": {
   "display_name": "Python 3",
   "language": "python",
   "name": "python3"
  },
  "language_info": {
   "codemirror_mode": {
    "name": "ipython",
    "version": 3
   },
   "file_extension": ".py",
   "mimetype": "text/x-python",
   "name": "python",
   "nbconvert_exporter": "python",
   "pygments_lexer": "ipython3",
   "version": "3.8.3"
  }
 },
 "nbformat": 4,
 "nbformat_minor": 4
}
